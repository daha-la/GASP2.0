{
 "cells": [
  {
   "cell_type": "code",
   "execution_count": 17,
   "metadata": {},
   "outputs": [],
   "source": [
    "# Package imports\n",
    "import progres as pg\n",
    "import pandas as pd\n",
    "import numpy as np\n",
    "import os\n",
    "import Bio.PDB as bpdb\n",
    "\n",
    "# Local imports\n",
    "import sys\n",
    "current_dir = os.path.abspath('')\n",
    "project_root = os.path.abspath(os.path.join(current_dir, '../../../../'))\n",
    "sys.path.append(project_root)\n",
    "from src.helper_functions import NtermSelectPDB"
   ]
  },
  {
   "cell_type": "code",
   "execution_count": null,
   "metadata": {},
   "outputs": [],
   "source": [
    "# Define the input parameters\n",
    "folder_path = 'AF2_models/original/' # Folder with the PDB files to be embedded \n",
    "outname = 'progres' # Name of the output file\n",
    "chain_id = 'A' # Chain ID of the protein"
   ]
  },
  {
   "cell_type": "code",
   "execution_count": null,
   "metadata": {},
   "outputs": [],
   "source": [
    "# Pre-load the model to save time\n",
    "model = pg.load_trained_model()\n",
    "\n",
    "# Initialize the dataframes, Proges outputs a 128-dimensional embedding\n",
    "rep_df = pd.DataFrame(columns=np.arange(128))\n",
    "rep_Nt_df = pd.DataFrame(columns=np.arange(128))\n",
    "\n",
    "# Loop over the PDB files in the folder\n",
    "for path, dirs, files in os.walk(folder_path):\n",
    "\n",
    "    # Ensure we are in a model folder, as these folders do not contain any directories\n",
    "    if len(dirs) == 0:\n",
    "\n",
    "        # Get the protein name and the path to the PDB file\n",
    "        prot_name = os.path.basename(path)\n",
    "        pdb_path = path+'/'+prot_name+'_ranked_0.pdb'\n",
    "\n",
    "        # Embed the full protein structure and save the embedding\n",
    "        rep = pg.embed_structure(pdb_path,model=model)\n",
    "        rep_df.loc[prot_name] = rep.detach().numpy()\n",
    "\n",
    "        # Extract the N-terminal, embed it, and save the embedding\n",
    "        selector = NtermSelectPDB(pdb_path, chain_id)\n",
    "        selector.save_nterm('AF2_models/temp/temp.pdb')\n",
    "        rep = pg.embed_structure('AF2_models/temp/temp.pdb',model=model)\n",
    "        rep_Nt_df.loc[prot_name] = rep.detach().numpy()\n",
    "\n",
    "# Rename the index of the dataframes to ensure compatibility with the evaluation scripts \n",
    "rep_df.index.names = ['enzyme']\n",
    "rep_Nt_df.index.names = ['enzyme']\n",
    "\n",
    "# Save the embeddings to a TSV file, using the output name defined above\n",
    "rep_df.to_csv(f'../../encodings/{outname}.tsv',sep='\\t')\n",
    "rep_Nt_df.to_csv(f'../../encodings/{outname}_Nterm.tsv',sep='\\t')"
   ]
  }
 ],
 "metadata": {
  "kernelspec": {
   "display_name": "prog",
   "language": "python",
   "name": "python3"
  },
  "language_info": {
   "codemirror_mode": {
    "name": "ipython",
    "version": 3
   },
   "file_extension": ".py",
   "mimetype": "text/x-python",
   "name": "python",
   "nbconvert_exporter": "python",
   "pygments_lexer": "ipython3",
   "version": "3.9.21"
  }
 },
 "nbformat": 4,
 "nbformat_minor": 2
}
