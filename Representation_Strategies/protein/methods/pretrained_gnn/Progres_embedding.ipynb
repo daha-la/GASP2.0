{
 "cells": [
  {
   "cell_type": "code",
   "execution_count": 1,
   "metadata": {},
   "outputs": [],
   "source": [
    "import progres as pg"
   ]
  },
  {
   "cell_type": "code",
   "execution_count": 26,
   "metadata": {},
   "outputs": [],
   "source": [
    "import pandas as pd\n",
    "import numpy as np\n",
    "import os\n",
    "import Bio.PDB as bpdb"
   ]
  },
  {
   "cell_type": "code",
   "execution_count": 36,
   "metadata": {},
   "outputs": [],
   "source": [
    "class ResSelect(bpdb.Select):\n",
    "    global start_res\n",
    "    global end_res\n",
    "    def accept_residue(self, res):\n",
    "        if res.id[1] >= start_res and res.id[1] <= end_res and res.parent.id == chain_id:\n",
    "            return False\n",
    "        else:\n",
    "            return True"
   ]
  },
  {
   "cell_type": "code",
   "execution_count": 44,
   "metadata": {},
   "outputs": [],
   "source": [
    "def select_nterm(prot_path):\n",
    "    struc = bpdb.PDBParser().get_structure('temp', 'AlphaFold2_models/GTs_best/AFJ52996.1/AFJ52996.1_ranked_0.pdb')\n",
    "    prot_len = len(struc[0]['A'])\n",
    "    start_res=int(prot_len/2)\n",
    "    end_res=prot_len\n",
    "    chain_id = 'A'\n",
    "    nterm = bpdb.PDBIO()\n",
    "    nterm.set_structure(struc)\n",
    "    nterm.save('temp.pdb', ResSelect())\n"
   ]
  },
  {
   "cell_type": "code",
   "execution_count": 45,
   "metadata": {},
   "outputs": [],
   "source": [
    "rep_df = pd.DataFrame(columns=np.arange(128))\n",
    "rep_Nt_df = pd.DataFrame(columns=np.arange(128))\n",
    "for path, dirs, files in os.walk('AlphaFold2_models/GTs_best/'):\n",
    "    if len(dirs) == 0:\n",
    "        prot_name = os.path.basename(path)\n",
    "        rep = pg.embed_structure(path+'/'+prot_name+'_ranked_0.pdb')\n",
    "        rep_df.loc[prot_name] = rep.detach().numpy()\n",
    "        select_nterm(path+'/'+prot_name+'_ranked_0.pdb')\n",
    "        rep = pg.embed_structure('temp.pdb')\n",
    "        rep_Nt_df.loc[prot_name] = rep.detach().numpy()"
   ]
  },
  {
   "cell_type": "code",
   "execution_count": 48,
   "metadata": {},
   "outputs": [],
   "source": [
    "rep_df.index.names = ['enzyme']\n",
    "rep_df.to_csv('../encodings/progres.tsv',sep='\\t')\n",
    "rep_Nt_df.index.names = ['enzyme']\n",
    "rep_Nt_df.to_csv('../encodings/progres_Nt.tsv',sep='\\t')"
   ]
  },
  {
   "cell_type": "code",
   "execution_count": null,
   "metadata": {},
   "outputs": [],
   "source": []
  }
 ],
 "metadata": {
  "kernelspec": {
   "display_name": "prog",
   "language": "python",
   "name": "python3"
  },
  "language_info": {
   "codemirror_mode": {
    "name": "ipython",
    "version": 3
   },
   "file_extension": ".py",
   "mimetype": "text/x-python",
   "name": "python",
   "nbconvert_exporter": "python",
   "pygments_lexer": "ipython3",
   "version": "3.12.3"
  }
 },
 "nbformat": 4,
 "nbformat_minor": 2
}
