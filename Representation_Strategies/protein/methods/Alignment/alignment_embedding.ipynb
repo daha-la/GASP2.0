{
 "cells": [
  {
   "cell_type": "code",
   "execution_count": 1,
   "metadata": {},
   "outputs": [],
   "source": [
    "# Package imports\n",
    "import sys\n",
    "import numpy as np\n",
    "import pandas as pd\n",
    "import os\n",
    "from Bio import AlignIO\n",
    "\n",
    "# Local imports\n",
    "current_dir = os.path.abspath('')\n",
    "project_root = os.path.abspath(os.path.join(current_dir, '../../../../'))\n",
    "sys.path.append(project_root)\n",
    "from src.helper_functions import encoding_alignment, hmmaligning"
   ]
  },
  {
   "cell_type": "code",
   "execution_count": 2,
   "metadata": {},
   "outputs": [],
   "source": [
    "# Define the input parameters\n",
    "hmm_model = 'GASP'\n",
    "fasta_name = 'seqs'\n",
    "raw_encoding_name = 'blosum62amb'\n",
    "threshold = 1"
   ]
  },
  {
   "cell_type": "code",
   "execution_count": 3,
   "metadata": {},
   "outputs": [
    {
     "name": "stdout",
     "output_type": "stream",
     "text": [
      "Alignment does not exist. Running alignment...\n",
      "Skipped 0 sequences due to too many gaps\n"
     ]
    }
   ],
   "source": [
    "# Check if the fasta file exists\n",
    "if not os.path.exists(f'../../../../Data/fasta/{fasta_name}.faa'):\n",
    "    print(f'Error: {fasta_name}.faa does not exist')\n",
    "    sys.exit(1)\n",
    "\n",
    "# Check if alignment file exists\n",
    "if not os.path.exists(f'alignments/{fasta_name}_{hmm_model}.afa'):\n",
    "    print(f'Alignment does not exist. Running alignment...')\n",
    "    hmmaligning([f'../../../../Data/fasta/{fasta_name}.faa'], hmm_model, f'{fasta_name}',threshold=threshold)\n"
   ]
  },
  {
   "cell_type": "code",
   "execution_count": 5,
   "metadata": {},
   "outputs": [],
   "source": [
    "align = AlignIO.read(f'alignments/{fasta_name}_{hmm_model}.afa', \"fasta\")\n",
    "raw_encoding = pd.read_csv(f'../../encodings/raw/{raw_encoding_name}.csv',index_col=0)"
   ]
  },
  {
   "cell_type": "code",
   "execution_count": 6,
   "metadata": {},
   "outputs": [],
   "source": [
    "full_encoding = encoding_alignment(align, raw_encoding)\n",
    "nterm_encoding = encoding_alignment(align, raw_encoding, remove_Cterm=True)"
   ]
  },
  {
   "cell_type": "code",
   "execution_count": 7,
   "metadata": {},
   "outputs": [],
   "source": [
    "outpath = f'../../encodings/{raw_encoding_name}_alignment'\n",
    "full_encoding.to_csv(outpath+'.tsv',sep='\\t')\n",
    "nterm_encoding.to_csv(outpath+'_nterm.tsv',sep='\\t')"
   ]
  },
  {
   "cell_type": "code",
   "execution_count": null,
   "metadata": {},
   "outputs": [],
   "source": []
  }
 ],
 "metadata": {
  "kernelspec": {
   "display_name": "GASP2.0",
   "language": "python",
   "name": "python3"
  },
  "language_info": {
   "codemirror_mode": {
    "name": "ipython",
    "version": 3
   },
   "file_extension": ".py",
   "mimetype": "text/x-python",
   "name": "python",
   "nbconvert_exporter": "python",
   "pygments_lexer": "ipython3",
   "version": "3.11.11"
  }
 },
 "nbformat": 4,
 "nbformat_minor": 2
}
