{
 "cells": [
  {
   "cell_type": "code",
   "execution_count": 1,
   "metadata": {},
   "outputs": [],
   "source": [
    "# Package imports\n",
    "import numpy as np\n",
    "import pandas as pd\n",
    "import mdtraj as md\n",
    "from Bio import AlignIO\n",
    "import os\n",
    "\n",
    "# Local imports\n",
    "import sys\n",
    "current_dir = os.path.abspath('')\n",
    "project_root = os.path.abspath(os.path.join(current_dir, '../../../../'))\n",
    "sys.path.append(project_root)\n",
    "import StructureInformed as StructureInformed"
   ]
  },
  {
   "cell_type": "code",
   "execution_count": 2,
   "metadata": {},
   "outputs": [],
   "source": [
    "# Define the input parameters\n",
    "template_structure = md.load_pdb(\"../../../../Data/6SU6.pdb\") # Template structure for identifying important residues\n",
    "outname = 'strucinform' # Name of the output file\n",
    "align = AlignIO.read('../alignment/seqs.afa', \"fasta\") # Alignment file for matching the residues from the template protein to other proteins\n",
    "raw_encoding_name = 'atchley' # Raw encoding file used for generating the embeddings\n",
    "template_name = 'Pt_UGT1' # Name of the template protein in MSA\n",
    "method = 'spherical' # Method for extracting the important residues, can be 'spherical' or 'manual'\n",
    "\n",
    "#Spherical extraction parameters\n",
    "centroid_ids = [26] # List of IDs of the residues used for spherical identification\n",
    "radius = 12 # Radius for the spherical extraction in Angstroms\n",
    "\n",
    "#Manual extraction parameters\n",
    "important_residues=[198,399,75,381,222,296,430,188,148,190,86,110,413,146,388,297] # List of important residues for manual extraction"
   ]
  },
  {
   "cell_type": "code",
   "execution_count": 3,
   "metadata": {},
   "outputs": [],
   "source": [
    "# Identify the important residues from the template protein\n",
    "if method == 'spherical':\n",
    "    resid, res = StructureInformed.sphere_extraction(template_structure,int(radius/10),centroid_ids) # Divide by 10 to convert to nm\n",
    "elif method == 'manual':\n",
    "    resid, res = StructureInformed.manual_selection(template_structure, important_residues)\n",
    "else:\n",
    "    raise ValueError('Method not recognized')"
   ]
  },
  {
   "cell_type": "code",
   "execution_count": 4,
   "metadata": {},
   "outputs": [],
   "source": [
    "# Matching the residues from the template protein to other proteins\n",
    "matched = StructureInformed.matching(align,template_name,resid,res)\n",
    "\n",
    "# Encoding the matched residues\n",
    "raw_encoding = pd.read_csv(f'../../encodings/raw/{raw_encoding_name}.csv',index_col=0)\n",
    "encoded = StructureInformed.encoding_matched(matched,raw_encoding)"
   ]
  },
  {
   "cell_type": "code",
   "execution_count": null,
   "metadata": {},
   "outputs": [],
   "source": [
    "# Creating the output path\n",
    "outpath = f'../../encodings/{outname}_{method}'\n",
    "if method == 'spherical':\n",
    "\n",
    "    # Combine the centroid ids into a string\n",
    "    ids = '_c'.join([str(x) for x in centroid_ids])\n",
    "    outpath += f'_c{ids}_r{radius}_{raw_encoding_name}.csv'\n",
    "elif method == 'manual':\n",
    "\n",
    "    # Use the number of important residues as identifier\n",
    "    outpath += f'{int(len(important_residues))}_{raw_encoding}.csv'\n",
    "else:\n",
    "    raise ValueError('Method not recognized')\n",
    "\n",
    "# Save the encoding to a file\n",
    "encoded.to_csv(outpath,sep='\\t')"
   ]
  }
 ],
 "metadata": {
  "kernelspec": {
   "display_name": "GASP2.0",
   "language": "python",
   "name": "python3"
  },
  "language_info": {
   "codemirror_mode": {
    "name": "ipython",
    "version": 3
   },
   "file_extension": ".py",
   "mimetype": "text/x-python",
   "name": "python",
   "nbconvert_exporter": "python",
   "pygments_lexer": "ipython3",
   "version": "3.11.11"
  }
 },
 "nbformat": 4,
 "nbformat_minor": 2
}
